{
  "cells": [
    {
      "cell_type": "markdown",
      "metadata": {
        "id": "view-in-github",
        "colab_type": "text"
      },
      "source": [
        "<a href=\"https://colab.research.google.com/github/zakaria-kabir/Research_Bengali-Dialect-Detection/blob/main/Audio_Preprocessing.ipynb\" target=\"_parent\"><img src=\"https://colab.research.google.com/assets/colab-badge.svg\" alt=\"Open In Colab\"/></a>"
      ]
    },
    {
      "cell_type": "markdown",
      "metadata": {
        "id": "azFIQQMcOWVq"
      },
      "source": [
        "#**Mounting**"
      ]
    },
    {
      "cell_type": "code",
      "execution_count": 1,
      "metadata": {
        "id": "YQDvdi6NORku",
        "colab": {
          "base_uri": "https://localhost:8080/"
        },
        "outputId": "08c5fefd-625f-4dd1-e8d0-b0f975856c74"
      },
      "outputs": [
        {
          "output_type": "stream",
          "name": "stdout",
          "text": [
            "Mounted at /content/drive\n"
          ]
        }
      ],
      "source": [
        "import os                                     \n",
        "import google.colab                                                             \n",
        "import sys\n",
        "\n",
        "# mounting Google Drive in the runtime's virtual machine\n",
        "if not os.path.isdir('/content/drive'):\n",
        "\n",
        "    google.colab.drive.mount('/content/drive') "
      ]
    },
    {
      "cell_type": "code",
      "execution_count": 2,
      "metadata": {
        "id": "0rG0SxYrOc6g"
      },
      "outputs": [],
      "source": [
        "os.chdir('/content/drive/MyDrive/Research 2021/G9 1920392_Zannat Chowdhury_1921371_Md Zakaria Kabir/Development')"
      ]
    },
    {
      "cell_type": "code",
      "execution_count": 3,
      "metadata": {
        "colab": {
          "base_uri": "https://localhost:8080/"
        },
        "id": "v7Z8aBe3Ot7m",
        "outputId": "89a1c07f-2027-4799-faf9-46281a306bc2"
      },
      "outputs": [
        {
          "output_type": "stream",
          "name": "stdout",
          "text": [
            "Audio_Preprocessing.ipynb  input_directory  playlist_collaboration_link.gdoc\n"
          ]
        }
      ],
      "source": [
        "!ls"
      ]
    },
    {
      "cell_type": "markdown",
      "metadata": {
        "id": "E8YP26HSOy-z"
      },
      "source": [
        "#**Installation & Imports**"
      ]
    },
    {
      "cell_type": "markdown",
      "metadata": {
        "id": "e5JrigxAO2Fy"
      },
      "source": [
        "**Standard Imports**"
      ]
    },
    {
      "cell_type": "code",
      "execution_count": 4,
      "metadata": {
        "id": "pubbAoCpO6F5"
      },
      "outputs": [],
      "source": [
        "import os\n",
        "import glob\n",
        "import json\n",
        "import re"
      ]
    },
    {
      "cell_type": "markdown",
      "metadata": {
        "id": "S6wFxbrwO7fX"
      },
      "source": [
        "**Other Imports**"
      ]
    },
    {
      "cell_type": "code",
      "execution_count": 5,
      "metadata": {
        "id": "3IoUbIyoO9z6"
      },
      "outputs": [],
      "source": [
        "modules = {'librosa': False,\n",
        "           'pandas': False,\n",
        "           'audio_metadata': False,\n",
        "           'yt_dlp': False,\n",
        "           'numpy': False,\n",
        "           'soundfile': False,\n",
        "           'pydub': False,}"
      ]
    },
    {
      "cell_type": "code",
      "execution_count": 6,
      "metadata": {
        "colab": {
          "base_uri": "https://localhost:8080/"
        },
        "id": "bRJGGI8GPBRH",
        "outputId": "f073d6b3-44ca-4103-d434-d055fa0531c5"
      },
      "outputs": [
        {
          "output_type": "stream",
          "name": "stdout",
          "text": [
            "Installing audio_metadata\n",
            "Looking in indexes: https://pypi.org/simple, https://us-python.pkg.dev/colab-wheels/public/simple/\n",
            "Collecting audio_metadata\n",
            "  Downloading audio_metadata-0.11.1-py3-none-any.whl (41 kB)\n",
            "\u001b[K     |████████████████████████████████| 41 kB 646 kB/s \n",
            "\u001b[?25hCollecting pendulum!=2.0.5,!=2.1.0,<=3.0,>=2.0\n",
            "  Downloading pendulum-2.1.2-cp37-cp37m-manylinux1_x86_64.whl (155 kB)\n",
            "\u001b[K     |████████████████████████████████| 155 kB 21.2 MB/s \n",
            "\u001b[?25hCollecting pprintpp<1.0.0\n",
            "  Downloading pprintpp-0.4.0-py2.py3-none-any.whl (16 kB)\n",
            "Collecting bitstruct<9.0,>=6.0\n",
            "  Downloading bitstruct-8.15.1.tar.gz (34 kB)\n",
            "Collecting bidict<1.0.0\n",
            "  Downloading bidict-0.22.0-py3-none-any.whl (36 kB)\n",
            "Collecting attrs<19.4,>=18.2\n",
            "  Downloading attrs-19.3.0-py2.py3-none-any.whl (39 kB)\n",
            "Requirement already satisfied: wrapt<2.0,>=1.0 in /usr/local/lib/python3.7/dist-packages (from audio_metadata) (1.14.1)\n",
            "Requirement already satisfied: more-itertools<9.0,>=4.0 in /usr/local/lib/python3.7/dist-packages (from audio_metadata) (8.14.0)\n",
            "Collecting tbm-utils<3.0,>=2.3\n",
            "  Downloading tbm_utils-2.6.0-py3-none-any.whl (12 kB)\n",
            "Requirement already satisfied: python-dateutil<3.0,>=2.6 in /usr/local/lib/python3.7/dist-packages (from pendulum!=2.0.5,!=2.1.0,<=3.0,>=2.0->audio_metadata) (2.8.2)\n",
            "Collecting pytzdata>=2020.1\n",
            "  Downloading pytzdata-2020.1-py2.py3-none-any.whl (489 kB)\n",
            "\u001b[K     |████████████████████████████████| 489 kB 62.3 MB/s \n",
            "\u001b[?25hRequirement already satisfied: six>=1.5 in /usr/local/lib/python3.7/dist-packages (from python-dateutil<3.0,>=2.6->pendulum!=2.0.5,!=2.1.0,<=3.0,>=2.0->audio_metadata) (1.15.0)\n",
            "Building wheels for collected packages: bitstruct\n",
            "  Building wheel for bitstruct (setup.py) ... \u001b[?25l\u001b[?25hdone\n",
            "  Created wheel for bitstruct: filename=bitstruct-8.15.1-cp37-cp37m-linux_x86_64.whl size=61848 sha256=70bae3d5c66c51459afef430b0d17d1b01b34cff2d180774a21445bcd12bc3df\n",
            "  Stored in directory: /root/.cache/pip/wheels/fc/b3/7d/321751d307584e206b1399a25c2427bf36f9bb22d1ba311e65\n",
            "Successfully built bitstruct\n",
            "Installing collected packages: pytzdata, pprintpp, pendulum, attrs, tbm-utils, bitstruct, bidict, audio-metadata\n",
            "  Attempting uninstall: attrs\n",
            "    Found existing installation: attrs 22.1.0\n",
            "    Uninstalling attrs-22.1.0:\n",
            "      Successfully uninstalled attrs-22.1.0\n",
            "Successfully installed attrs-19.3.0 audio-metadata-0.11.1 bidict-0.22.0 bitstruct-8.15.1 pendulum-2.1.2 pprintpp-0.4.0 pytzdata-2020.1 tbm-utils-2.6.0\n",
            "Installing yt_dlp\n",
            "Looking in indexes: https://pypi.org/simple, https://us-python.pkg.dev/colab-wheels/public/simple/\n",
            "Collecting yt-dlp\n",
            "  Downloading yt_dlp-2022.9.1-py2.py3-none-any.whl (2.7 MB)\n",
            "\u001b[K     |████████████████████████████████| 2.7 MB 12.9 MB/s \n",
            "\u001b[?25hCollecting mutagen\n",
            "  Downloading mutagen-1.45.1-py3-none-any.whl (218 kB)\n",
            "\u001b[K     |████████████████████████████████| 218 kB 64.2 MB/s \n",
            "\u001b[?25hCollecting websockets\n",
            "  Downloading websockets-10.3-cp37-cp37m-manylinux_2_5_x86_64.manylinux1_x86_64.manylinux_2_12_x86_64.manylinux2010_x86_64.whl (112 kB)\n",
            "\u001b[K     |████████████████████████████████| 112 kB 75.3 MB/s \n",
            "\u001b[?25hCollecting pycryptodomex\n",
            "  Downloading pycryptodomex-3.15.0-cp35-abi3-manylinux2010_x86_64.whl (2.3 MB)\n",
            "\u001b[K     |████████████████████████████████| 2.3 MB 50.5 MB/s \n",
            "\u001b[?25hRequirement already satisfied: certifi in /usr/local/lib/python3.7/dist-packages (from yt-dlp) (2022.6.15)\n",
            "Collecting brotli\n",
            "  Downloading Brotli-1.0.9-cp37-cp37m-manylinux1_x86_64.whl (357 kB)\n",
            "\u001b[K     |████████████████████████████████| 357 kB 68.8 MB/s \n",
            "\u001b[?25hInstalling collected packages: websockets, pycryptodomex, mutagen, brotli, yt-dlp\n",
            "Successfully installed brotli-1.0.9 mutagen-1.45.1 pycryptodomex-3.15.0 websockets-10.3 yt-dlp-2022.9.1\n",
            "Installing pydub\n",
            "Looking in indexes: https://pypi.org/simple, https://us-python.pkg.dev/colab-wheels/public/simple/\n",
            "Collecting pydub\n",
            "  Downloading pydub-0.25.1-py2.py3-none-any.whl (32 kB)\n",
            "Installing collected packages: pydub\n",
            "Successfully installed pydub-0.25.1\n",
            "Successfully Imported!!\n"
          ]
        }
      ],
      "source": [
        "while True:\n",
        "\n",
        "  try:\n",
        "\n",
        "    import librosa\n",
        "    modules['librosa'] = True\n",
        "\n",
        "    import pandas as pd\n",
        "    modules['pandas'] = True\n",
        "\n",
        "    import audio_metadata\n",
        "    modules['audio_metadata'] = True\n",
        "\n",
        "    import yt_dlp\n",
        "    modules['yt_dlp'] = True\n",
        "\n",
        "    import numpy as np\n",
        "    modules['numpy'] = True\n",
        "\n",
        "    import soundfile as sf\n",
        "    modules['soundfile'] = True\n",
        "\n",
        "    from pydub import AudioSegment \n",
        "    from pydub.utils import make_chunks\n",
        "    modules['pydub'] = True\n",
        "\n",
        "    print('Successfully Imported!!')\n",
        "\n",
        "    break\n",
        "\n",
        "  except Exception:\n",
        "\n",
        "    if modules['librosa'] == False:\n",
        "\n",
        "      print('Installing librosa')\n",
        "\n",
        "      !pip install librosa\n",
        "\n",
        "      continue\n",
        "\n",
        "    if modules['pandas'] == False:\n",
        "\n",
        "      print('Installing pandas')\n",
        "\n",
        "      !pip install pandas\n",
        "      \n",
        "      continue\n",
        "    \n",
        "    if modules['audio_metadata'] == False:\n",
        "\n",
        "      print('Installing audio_metadata')\n",
        "\n",
        "      !pip install -U audio_metadata\n",
        "      \n",
        "      continue\n",
        "\n",
        "    if modules['yt_dlp'] == False:\n",
        "\n",
        "      print('Installing yt_dlp')\n",
        "\n",
        "      !python3 -m pip install -U yt-dlp\n",
        "      \n",
        "      continue\n",
        "\n",
        "    if modules['numpy'] == False:\n",
        "\n",
        "      print('Installing numpy')\n",
        "\n",
        "      !pip install numpy\n",
        "      \n",
        "      continue\n",
        "\n",
        "    if modules['soundfile'] == False:\n",
        "\n",
        "      print('Installing soundfile')\n",
        "\n",
        "      !pip install soundfile\n",
        "      \n",
        "      continue\n",
        "\n",
        "    if modules['pydub'] == False:\n",
        "\n",
        "      print('Installing pydub')\n",
        "\n",
        "      !pip install pydub\n",
        "      \n",
        "      continue\n",
        "    print('Packages Installed Successfully')"
      ]
    },
    {
      "cell_type": "markdown",
      "metadata": {
        "id": "6Klg_-RbP10Q"
      },
      "source": [
        "#**Initialization**"
      ]
    },
    {
      "cell_type": "code",
      "execution_count": 7,
      "metadata": {
        "id": "oVehbKh8PqEM"
      },
      "outputs": [],
      "source": [
        "root_directory = '/content/drive/MyDrive/Research 2021/G9 1920392_Zannat Chowdhury_1921371_Md Zakaria Kabir/Development'\n",
        "\n",
        "os.makedirs(root_directory, exist_ok=True)\n",
        "\n",
        "input_directory = os.path.join(root_directory, 'input_directory')\n",
        "\n",
        "os.makedirs(input_directory, exist_ok=True)\n",
        "\n",
        "source_directory = os.path.join(input_directory, 'source_directory')\n",
        "\n",
        "os.makedirs(source_directory, exist_ok=True)\n",
        "\n",
        "trimmed_output = os.path.join(input_directory, 'trimmed_output')\n",
        "\n",
        "os.makedirs(trimmed_output, exist_ok=True)\n",
        "\n",
        "segmented_output = os.path.join(input_directory, 'segmented_output')\n",
        "\n",
        "os.makedirs(segmented_output, exist_ok=True)\n",
        "# dialect_list = ['bogura', 'chittagong', 'dinajpur', 'dhaka_old', 'comilla', 'chapai_nawabganj',\n",
        "#  'barishal', 'bagherhat', 'rajshahi', 'jessore', 'khulna', 'kolkata' 'kushtia',\n",
        "#  'manikganj', 'mymensingh', 'noakhali', 'rangpur', 'shatkhira', 'sirajgonj',\n",
        "#  'sylhet']"
      ]
    },
    {
      "cell_type": "code",
      "source": [
        "download_files_process = False\n",
        "update_trim_file_process = False\n",
        "trim_audio_data_process = False\n",
        "segment_process = True\n",
        "audio_info_process = True\n",
        "to_csv_process = True"
      ],
      "metadata": {
        "id": "A4D2fCHJ5tIT"
      },
      "execution_count": 8,
      "outputs": []
    },
    {
      "cell_type": "markdown",
      "metadata": {
        "id": "-vBE3qlwI-a1"
      },
      "source": [
        "#**Utility Functions**"
      ]
    },
    {
      "cell_type": "markdown",
      "source": [
        "### Audio Description "
      ],
      "metadata": {
        "id": "pisgwlkGAeSV"
      }
    },
    {
      "cell_type": "code",
      "execution_count": 9,
      "metadata": {
        "id": "c7CW5fN1I-bB"
      },
      "outputs": [],
      "source": [
        "def get_audio_info(dialect_list, dir, audio_info_process):\n",
        "\n",
        "  if audio_info_process:\n",
        "    \n",
        "    audio_info = []\n",
        "\n",
        "    for dialect in dialect_list:\n",
        "\n",
        "      print('Current Dialect: {0}'.format(dialect))\n",
        "\n",
        "      current_dialect_path = os.path.join(dir, dialect)\n",
        "\n",
        "      for audio_path in glob.glob(os.path.join(current_dialect_path, '*.wav')):\n",
        "\n",
        "        data, sampling_rate = librosa.load(audio_path, sr = None, mono=True)\n",
        "\n",
        "        metadata = audio_metadata.load(audio_path)\n",
        "\n",
        "        audio_info.append({'dialect': dialect,\n",
        "                          'filename': audio_path.split('/')[-1],\n",
        "                          'sampling_rate': sampling_rate,\n",
        "                          'duration' : librosa.get_duration(y = data, sr = sampling_rate),\n",
        "                          'audio_shape' : data.shape,\n",
        "                          'n_channels': len(data.shape),\n",
        "                          'filesize': f'{metadata.filesize/1024:.2f} KiB',\n",
        "                          'bit_rate': f'{metadata.streaminfo.bitrate/1000:.1f} Kbps',\n",
        "                          'bit_depth': metadata.streaminfo.bit_depth,\n",
        "                          'filepath' : audio_path\n",
        "                      })\n",
        "        \n",
        "    return pd.DataFrame(audio_info)"
      ]
    },
    {
      "cell_type": "markdown",
      "metadata": {
        "id": "J2eHNT-5L7Rh"
      },
      "source": [
        "# **Audio download**"
      ]
    },
    {
      "cell_type": "code",
      "execution_count": 10,
      "metadata": {
        "id": "OwQ0sxZNOmgv"
      },
      "outputs": [],
      "source": [
        "audio_url = {'#bogura':'https://www.youtube.com/playlist?list=PLh79TXh5wUA2sESaJxMUA-yKB753mnLpV',\n",
        "            '#chittagong':'https://youtube.com/playlist?list=PLh79TXh5wUA1JJdT_o9fNuTuwRcW11wuJ',\n",
        "            '#dinajpur':'https://www.youtube.com/playlist?list=PLh79TXh5wUA2iTmaHihqGJJXIPVrEvhtB',\n",
        "            '#dhaka_old':'https://www.youtube.com/playlist?list=PLh79TXh5wUA2oivE_qqlZnhAdbZhJJ8nc',\n",
        "            '#comilla':'https://www.youtube.com/playlist?list=PLh79TXh5wUA0W1NGAHkRxyHUSB9pb7K8O',\n",
        "            '#chapai_nawabganj':'https://www.youtube.com/playlist?list=PLh79TXh5wUA3fNAJ9mGUVBF9gaPsYuCwb',\n",
        "            '#barishal':'https://www.youtube.com/playlist?list=PLh79TXh5wUA1a9gvYcvnGDU2zT56OfzGj',\n",
        "            '#bagherhat':'https://www.youtube.com/playlist?list=PLh79TXh5wUA0Uw-OvaVis7smYIxua_Q10',\n",
        "            '#rajshahi':'https://www.youtube.com/playlist?list=PLh79TXh5wUA2dTraJg928KGAKNSaaY-2G',\n",
        "            '#jessore':'https://www.youtube.com/playlist?list=PLh79TXh5wUA0RGss5T1EvrpJRxHXrr0_S',\n",
        "            '#khulna':'https://www.youtube.com/playlist?list=PLh79TXh5wUA3tgiCsMq0ADkk4qYtLYMZT',\n",
        "            '#kolkata':'https://www.youtube.com/playlist?list=PLh79TXh5wUA1X_brXuh6dCrB0Dd3USmwm',\n",
        "            '#kushtia':'https://www.youtube.com/playlist?list=PLh79TXh5wUA2KFsndexCHzpxvOapGcyKe',\n",
        "            '#manikganj':'https://www.youtube.com/playlist?list=PLh79TXh5wUA2irbH3RgbTO0dx4oxcsKPF',\n",
        "            '#mymensingh':'https://www.youtube.com/playlist?list=PLh79TXh5wUA0-zv6ZZHMTyGwx0_iRrnWD',\n",
        "            '#noakhali':'https://www.youtube.com/playlist?list=PLh79TXh5wUA1xJCfr-3YmZKKKpGQqopKG',\n",
        "            '#rangpur':'https://www.youtube.com/playlist?list=PLh79TXh5wUA0xBXftNohSOmK6aDJG2DOn',\n",
        "            '#shatkhira':'https://www.youtube.com/playlist?list=PLh79TXh5wUA3LjmFCWymquAm0ER037AYu',\n",
        "            '#sirajgonj':'https://www.youtube.com/playlist?list=PLh79TXh5wUA0mfmyXNRkQRggLneN73cM0',\n",
        "            '#sylhet':'https://www.youtube.com/playlist?list=PLh79TXh5wUA22CAiJs8p_p7MssS4kueRe'}"
      ]
    },
    {
      "cell_type": "code",
      "execution_count": 11,
      "metadata": {
        "id": "XceUAPvsO4NR"
      },
      "outputs": [],
      "source": [
        "filepath = os.path.join(source_directory, 'playlist.txt')\n",
        "\n",
        "with open(filepath, 'w+') as file:\n",
        "\n",
        "  for key, value in audio_url.items():\n",
        "\n",
        "    file.write('{0}\\n{1}\\n'.format(key, value))"
      ]
    },
    {
      "cell_type": "code",
      "execution_count": 12,
      "metadata": {
        "id": "VjrhbgwJv-sU"
      },
      "outputs": [],
      "source": [
        "def download_files(download_files_process):\n",
        "\n",
        "  if download_files_process:\n",
        "\n",
        "    !yt-dlp -f 'ba' -x --audio-format wav --download-archive '{source_directory}/downloaded_list.txt' -o '{source_directory}/%(playlist)s/%(playlist)s%(playlist_index)05d.%(ext)s' -a '{filepath}'"
      ]
    },
    {
      "cell_type": "code",
      "source": [
        "download_files(download_files_process)"
      ],
      "metadata": {
        "id": "JPkeMSOtshRB"
      },
      "execution_count": 13,
      "outputs": []
    },
    {
      "cell_type": "markdown",
      "source": [
        "# **Get Dialect List**"
      ],
      "metadata": {
        "id": "xoCOwNontBL3"
      }
    },
    {
      "cell_type": "code",
      "execution_count": 14,
      "metadata": {
        "id": "UIQJUr7rRcb9"
      },
      "outputs": [],
      "source": [
        "dialect_list = [dialect.replace('#', '') for dialect in audio_url.keys()]"
      ]
    },
    {
      "cell_type": "markdown",
      "metadata": {
        "id": "Ck6rJltyRFyq"
      },
      "source": [
        "#**Audio Triming**"
      ]
    },
    {
      "cell_type": "markdown",
      "metadata": {
        "id": "n4xwnhavZAml"
      },
      "source": [
        "**Initializing Trimming Points** "
      ]
    },
    {
      "cell_type": "code",
      "execution_count": 15,
      "metadata": {
        "id": "U21zXvBzW_Gs"
      },
      "outputs": [],
      "source": [
        "def initialize_trimming_points(process):\n",
        "\n",
        "  if process:\n",
        "\n",
        "    trimming_points = {}\n",
        "\n",
        "    for dialect in dialect_list:\n",
        "\n",
        "      current_dialect_path = os.path.join(source_directory, dialect)\n",
        "\n",
        "      for audio_path in glob.glob(os.path.join(current_dialect_path, '*.wav')):\n",
        "\n",
        "        trimming_points[audio_path.split('/')[-1]] = None\n",
        "        \n",
        "    return trimming_points"
      ]
    },
    {
      "cell_type": "markdown",
      "metadata": {
        "id": "5PINtKszisQ8"
      },
      "source": [
        "**Write into file to note down the points**"
      ]
    },
    {
      "cell_type": "code",
      "execution_count": 16,
      "metadata": {
        "id": "DjI1qdoTi4I7"
      },
      "outputs": [],
      "source": [
        "def write_trim_points_into_file(trim_points_filename, update_trim_file_process):\n",
        "\n",
        "  if update_trim_file_process:\n",
        "\n",
        "    trimming_points=initialize_trimming_points(update_trim_file_process)\n",
        "\n",
        "    if not os.path.isfile(trim_points_filename) :\n",
        "\n",
        "      fp = open(trim_points_filename, 'x')\n",
        "\n",
        "      fp.close()\n",
        "\n",
        "    if os.stat(trim_points_filename).st_size == 0:\n",
        "\n",
        "      json.dump(trimming_points, open(trim_points_filename,'w'),indent=2, sort_keys=True)\n",
        "\n",
        "    else:\n",
        "\n",
        "      trim_points_dict = json.load(open(os.path.join(source_directory, 'trim_points.txt')))\n",
        "\n",
        "      if not trim_points_dict.keys()==trimming_points.keys():\n",
        "\n",
        "        trimming_points.update(trim_points_dict)\n",
        "\n",
        "        json.dump(trimming_points, open(trim_points_filename,'w'), indent=2, sort_keys=True)"
      ]
    },
    {
      "cell_type": "markdown",
      "metadata": {
        "id": "RgRTg_iQjGqd"
      },
      "source": [
        "**Read file to read the trimming points & trim, & save to trimed directory by same file and folder notation**"
      ]
    },
    {
      "cell_type": "code",
      "execution_count": 17,
      "metadata": {
        "id": "ZvbTtVo0-G4r"
      },
      "outputs": [],
      "source": [
        "def trim_audio_dataset(trim_points_filename, trimmed_output, trim_audio_data_process):\n",
        "\n",
        "  if trim_audio_data_process:\n",
        "\n",
        "    trim_points_dict = json.load(open(trim_points_filename))\n",
        "\n",
        "    for key, points in trim_points_dict.items():\n",
        "\n",
        "      current_dialect = re.split('\\d+', key)[0]\n",
        "\n",
        "      current_filepath = os.path.join(source_directory, current_dialect, key)\n",
        "\n",
        "      current_file_output_directory = os.path.join(trimmed_output, current_dialect)\n",
        "\n",
        "      os.makedirs(current_file_output_directory, exist_ok=True)\n",
        "      \n",
        "      audio, sr = librosa.load(current_filepath, sr = None, mono = True)\n",
        "\n",
        "      buffer = 0\n",
        "\n",
        "      if points is not None:\n",
        "\n",
        "        for current_point in points:\n",
        "\n",
        "          current_point = np.array(current_point) - buffer\n",
        "\n",
        "          audio = np.delete(audio,slice(current_point[0]*sr,-1 if current_point[1]<0 else current_point[1]*sr))\n",
        "\n",
        "          buffer += np.diff(current_point)\n",
        "\n",
        "      sf.write(os.path.join(current_file_output_directory, key), audio, sr)\n",
        "\n",
        "      print(os.path.join(current_file_output_directory, key))"
      ]
    },
    {
      "cell_type": "code",
      "execution_count": 18,
      "metadata": {
        "id": "5OA3P8A6DdD0"
      },
      "outputs": [],
      "source": [
        "trim_points_filename = os.path.join(source_directory, 'trim_points.txt')\n",
        "write_trim_points_into_file(trim_points_filename, update_trim_file_process)\n",
        "trim_audio_dataset(trim_points_filename, trimmed_output, trim_audio_data_process)"
      ]
    },
    {
      "cell_type": "markdown",
      "metadata": {
        "id": "1KAPZojLuXZ_"
      },
      "source": [
        "# **Audio Splitting**"
      ]
    },
    {
      "cell_type": "markdown",
      "source": [
        "*error: non-default argument follows default argument\n",
        "correct example*\n",
        "\n",
        "def example(a, b, c=None, r=\"w\", d=[], *ae,  **ab):\n",
        "\n",
        "(a,b) are positional parameter\n",
        "\n",
        "(c=none) is optional parameter\n",
        "\n",
        "(r=\"w\") is keyword parameter\n",
        "\n",
        "(d=[]) is list parameter\n",
        "\n",
        "(*ae) is keyword-only\n",
        "\n",
        "(*ab) is var-keyword parameter"
      ],
      "metadata": {
        "id": "90tWvE6yAEYt"
      }
    },
    {
      "cell_type": "code",
      "execution_count": 19,
      "metadata": {
        "id": "U01LZZoQuWSJ"
      },
      "outputs": [],
      "source": [
        "def split_audio_into_segments(dialect_list, dir, segment_process, segment_time=10):\n",
        "  \n",
        "  if segment_process:\n",
        "\n",
        "    # segment_time = int(input(\"Enter segment time (in Seconds):\"))\n",
        "\n",
        "    for dialect in dialect_list:\n",
        "\n",
        "      print('Current Dialect: {0}'.format(dialect))\n",
        "\n",
        "      current_dialect_path = os.path.join(dir, dialect)\n",
        "      \n",
        "      current_file_output_directory = os.path.join(segmented_output, dialect)\n",
        "\n",
        "      os.makedirs(current_file_output_directory, exist_ok=True)\n",
        "\n",
        "      count=0\n",
        "\n",
        "      for audio_path in glob.glob(os.path.join(current_dialect_path, '*.wav')):\n",
        "\n",
        "        audio = AudioSegment.from_file(audio_path, \"wav\") \n",
        "\n",
        "        chunk_length_ms = segment_time*1000\n",
        "\n",
        "        chunks = make_chunks(audio,chunk_length_ms)\n",
        "\n",
        "        for chunk in chunks: \n",
        "          \n",
        "          if not len(chunk)<(segment_time-2)*1000:\n",
        "\n",
        "            count+=1\n",
        "\n",
        "            chunk_name = os.path.join(current_file_output_directory, dialect+\"{:05}.wav\".format(count))\n",
        "          \n",
        "            chunk.export(chunk_name, format=\"wav\") "
      ]
    },
    {
      "cell_type": "code",
      "execution_count": 20,
      "metadata": {
        "id": "9O73f8l_v8cj",
        "colab": {
          "base_uri": "https://localhost:8080/"
        },
        "outputId": "10fc5215-04dd-431b-e1c2-ccf4d15db732"
      },
      "outputs": [
        {
          "output_type": "stream",
          "name": "stdout",
          "text": [
            "Current Dialect: bogura\n",
            "Current Dialect: chittagong\n",
            "Current Dialect: dinajpur\n",
            "Current Dialect: dhaka_old\n",
            "Current Dialect: comilla\n",
            "Current Dialect: chapai_nawabganj\n",
            "Current Dialect: barishal\n",
            "Current Dialect: bagherhat\n",
            "Current Dialect: rajshahi\n",
            "Current Dialect: jessore\n",
            "Current Dialect: khulna\n",
            "Current Dialect: kolkata\n",
            "Current Dialect: kushtia\n",
            "Current Dialect: manikganj\n",
            "Current Dialect: mymensingh\n",
            "Current Dialect: noakhali\n",
            "Current Dialect: rangpur\n",
            "Current Dialect: shatkhira\n",
            "Current Dialect: sirajgonj\n",
            "Current Dialect: sylhet\n"
          ]
        }
      ],
      "source": [
        "split_audio_into_segments(dialect_list, trimmed_output, segment_process)"
      ]
    },
    {
      "cell_type": "code",
      "source": [
        "audio_info_df = get_audio_info(dialect_list, segmented_output, audio_info_process)"
      ],
      "metadata": {
        "id": "7MAWM8eNA2SK",
        "colab": {
          "base_uri": "https://localhost:8080/"
        },
        "outputId": "9088f7a7-379c-4ff1-f1a4-4642730a6e3c"
      },
      "execution_count": 21,
      "outputs": [
        {
          "output_type": "stream",
          "name": "stdout",
          "text": [
            "Current Dialect: bogura\n",
            "Current Dialect: chittagong\n",
            "Current Dialect: dinajpur\n",
            "Current Dialect: dhaka_old\n",
            "Current Dialect: comilla\n",
            "Current Dialect: chapai_nawabganj\n",
            "Current Dialect: barishal\n",
            "Current Dialect: bagherhat\n",
            "Current Dialect: rajshahi\n",
            "Current Dialect: jessore\n",
            "Current Dialect: khulna\n",
            "Current Dialect: kolkata\n",
            "Current Dialect: kushtia\n",
            "Current Dialect: manikganj\n",
            "Current Dialect: mymensingh\n",
            "Current Dialect: noakhali\n",
            "Current Dialect: rangpur\n",
            "Current Dialect: shatkhira\n",
            "Current Dialect: sirajgonj\n",
            "Current Dialect: sylhet\n"
          ]
        }
      ]
    },
    {
      "cell_type": "code",
      "source": [
        "audio_info_df"
      ],
      "metadata": {
        "colab": {
          "base_uri": "https://localhost:8080/",
          "height": 424
        },
        "id": "oljrUnBXA3Ne",
        "outputId": "803c8d84-7809-421b-8f39-89455c4de1e8"
      },
      "execution_count": 22,
      "outputs": [
        {
          "output_type": "execute_result",
          "data": {
            "text/plain": [
              "     dialect         filename  sampling_rate  duration audio_shape  \\\n",
              "0     bogura  bogura00001.wav          48000      10.0   (480000,)   \n",
              "1     bogura  bogura00002.wav          48000      10.0   (480000,)   \n",
              "2     bogura  bogura00003.wav          48000      10.0   (480000,)   \n",
              "3     bogura  bogura00004.wav          48000      10.0   (480000,)   \n",
              "4     bogura  bogura00005.wav          48000      10.0   (480000,)   \n",
              "...      ...              ...            ...       ...         ...   \n",
              "6233  sylhet  sylhet01829.wav          48000      10.0   (480000,)   \n",
              "6234  sylhet  sylhet01830.wav          48000      10.0   (480000,)   \n",
              "6235  sylhet  sylhet01831.wav          48000      10.0   (480000,)   \n",
              "6236  sylhet  sylhet01832.wav          48000      10.0   (480000,)   \n",
              "6237  sylhet  sylhet01833.wav          48000      10.0   (480000,)   \n",
              "\n",
              "      n_channels    filesize    bit_rate  bit_depth  \\\n",
              "0              1  937.54 KiB  768.0 Kbps         16   \n",
              "1              1  937.54 KiB  768.0 Kbps         16   \n",
              "2              1  937.54 KiB  768.0 Kbps         16   \n",
              "3              1  937.54 KiB  768.0 Kbps         16   \n",
              "4              1  937.54 KiB  768.0 Kbps         16   \n",
              "...          ...         ...         ...        ...   \n",
              "6233           1  937.54 KiB  768.0 Kbps         16   \n",
              "6234           1  937.54 KiB  768.0 Kbps         16   \n",
              "6235           1  937.54 KiB  768.0 Kbps         16   \n",
              "6236           1  937.54 KiB  768.0 Kbps         16   \n",
              "6237           1  937.54 KiB  768.0 Kbps         16   \n",
              "\n",
              "                                               filepath  \n",
              "0     /content/drive/MyDrive/Research 2021/G9 192039...  \n",
              "1     /content/drive/MyDrive/Research 2021/G9 192039...  \n",
              "2     /content/drive/MyDrive/Research 2021/G9 192039...  \n",
              "3     /content/drive/MyDrive/Research 2021/G9 192039...  \n",
              "4     /content/drive/MyDrive/Research 2021/G9 192039...  \n",
              "...                                                 ...  \n",
              "6233  /content/drive/MyDrive/Research 2021/G9 192039...  \n",
              "6234  /content/drive/MyDrive/Research 2021/G9 192039...  \n",
              "6235  /content/drive/MyDrive/Research 2021/G9 192039...  \n",
              "6236  /content/drive/MyDrive/Research 2021/G9 192039...  \n",
              "6237  /content/drive/MyDrive/Research 2021/G9 192039...  \n",
              "\n",
              "[6238 rows x 10 columns]"
            ],
            "text/html": [
              "\n",
              "  <div id=\"df-5b9834ce-784d-406f-bca0-fbaf1f5048b9\">\n",
              "    <div class=\"colab-df-container\">\n",
              "      <div>\n",
              "<style scoped>\n",
              "    .dataframe tbody tr th:only-of-type {\n",
              "        vertical-align: middle;\n",
              "    }\n",
              "\n",
              "    .dataframe tbody tr th {\n",
              "        vertical-align: top;\n",
              "    }\n",
              "\n",
              "    .dataframe thead th {\n",
              "        text-align: right;\n",
              "    }\n",
              "</style>\n",
              "<table border=\"1\" class=\"dataframe\">\n",
              "  <thead>\n",
              "    <tr style=\"text-align: right;\">\n",
              "      <th></th>\n",
              "      <th>dialect</th>\n",
              "      <th>filename</th>\n",
              "      <th>sampling_rate</th>\n",
              "      <th>duration</th>\n",
              "      <th>audio_shape</th>\n",
              "      <th>n_channels</th>\n",
              "      <th>filesize</th>\n",
              "      <th>bit_rate</th>\n",
              "      <th>bit_depth</th>\n",
              "      <th>filepath</th>\n",
              "    </tr>\n",
              "  </thead>\n",
              "  <tbody>\n",
              "    <tr>\n",
              "      <th>0</th>\n",
              "      <td>bogura</td>\n",
              "      <td>bogura00001.wav</td>\n",
              "      <td>48000</td>\n",
              "      <td>10.0</td>\n",
              "      <td>(480000,)</td>\n",
              "      <td>1</td>\n",
              "      <td>937.54 KiB</td>\n",
              "      <td>768.0 Kbps</td>\n",
              "      <td>16</td>\n",
              "      <td>/content/drive/MyDrive/Research 2021/G9 192039...</td>\n",
              "    </tr>\n",
              "    <tr>\n",
              "      <th>1</th>\n",
              "      <td>bogura</td>\n",
              "      <td>bogura00002.wav</td>\n",
              "      <td>48000</td>\n",
              "      <td>10.0</td>\n",
              "      <td>(480000,)</td>\n",
              "      <td>1</td>\n",
              "      <td>937.54 KiB</td>\n",
              "      <td>768.0 Kbps</td>\n",
              "      <td>16</td>\n",
              "      <td>/content/drive/MyDrive/Research 2021/G9 192039...</td>\n",
              "    </tr>\n",
              "    <tr>\n",
              "      <th>2</th>\n",
              "      <td>bogura</td>\n",
              "      <td>bogura00003.wav</td>\n",
              "      <td>48000</td>\n",
              "      <td>10.0</td>\n",
              "      <td>(480000,)</td>\n",
              "      <td>1</td>\n",
              "      <td>937.54 KiB</td>\n",
              "      <td>768.0 Kbps</td>\n",
              "      <td>16</td>\n",
              "      <td>/content/drive/MyDrive/Research 2021/G9 192039...</td>\n",
              "    </tr>\n",
              "    <tr>\n",
              "      <th>3</th>\n",
              "      <td>bogura</td>\n",
              "      <td>bogura00004.wav</td>\n",
              "      <td>48000</td>\n",
              "      <td>10.0</td>\n",
              "      <td>(480000,)</td>\n",
              "      <td>1</td>\n",
              "      <td>937.54 KiB</td>\n",
              "      <td>768.0 Kbps</td>\n",
              "      <td>16</td>\n",
              "      <td>/content/drive/MyDrive/Research 2021/G9 192039...</td>\n",
              "    </tr>\n",
              "    <tr>\n",
              "      <th>4</th>\n",
              "      <td>bogura</td>\n",
              "      <td>bogura00005.wav</td>\n",
              "      <td>48000</td>\n",
              "      <td>10.0</td>\n",
              "      <td>(480000,)</td>\n",
              "      <td>1</td>\n",
              "      <td>937.54 KiB</td>\n",
              "      <td>768.0 Kbps</td>\n",
              "      <td>16</td>\n",
              "      <td>/content/drive/MyDrive/Research 2021/G9 192039...</td>\n",
              "    </tr>\n",
              "    <tr>\n",
              "      <th>...</th>\n",
              "      <td>...</td>\n",
              "      <td>...</td>\n",
              "      <td>...</td>\n",
              "      <td>...</td>\n",
              "      <td>...</td>\n",
              "      <td>...</td>\n",
              "      <td>...</td>\n",
              "      <td>...</td>\n",
              "      <td>...</td>\n",
              "      <td>...</td>\n",
              "    </tr>\n",
              "    <tr>\n",
              "      <th>6233</th>\n",
              "      <td>sylhet</td>\n",
              "      <td>sylhet01829.wav</td>\n",
              "      <td>48000</td>\n",
              "      <td>10.0</td>\n",
              "      <td>(480000,)</td>\n",
              "      <td>1</td>\n",
              "      <td>937.54 KiB</td>\n",
              "      <td>768.0 Kbps</td>\n",
              "      <td>16</td>\n",
              "      <td>/content/drive/MyDrive/Research 2021/G9 192039...</td>\n",
              "    </tr>\n",
              "    <tr>\n",
              "      <th>6234</th>\n",
              "      <td>sylhet</td>\n",
              "      <td>sylhet01830.wav</td>\n",
              "      <td>48000</td>\n",
              "      <td>10.0</td>\n",
              "      <td>(480000,)</td>\n",
              "      <td>1</td>\n",
              "      <td>937.54 KiB</td>\n",
              "      <td>768.0 Kbps</td>\n",
              "      <td>16</td>\n",
              "      <td>/content/drive/MyDrive/Research 2021/G9 192039...</td>\n",
              "    </tr>\n",
              "    <tr>\n",
              "      <th>6235</th>\n",
              "      <td>sylhet</td>\n",
              "      <td>sylhet01831.wav</td>\n",
              "      <td>48000</td>\n",
              "      <td>10.0</td>\n",
              "      <td>(480000,)</td>\n",
              "      <td>1</td>\n",
              "      <td>937.54 KiB</td>\n",
              "      <td>768.0 Kbps</td>\n",
              "      <td>16</td>\n",
              "      <td>/content/drive/MyDrive/Research 2021/G9 192039...</td>\n",
              "    </tr>\n",
              "    <tr>\n",
              "      <th>6236</th>\n",
              "      <td>sylhet</td>\n",
              "      <td>sylhet01832.wav</td>\n",
              "      <td>48000</td>\n",
              "      <td>10.0</td>\n",
              "      <td>(480000,)</td>\n",
              "      <td>1</td>\n",
              "      <td>937.54 KiB</td>\n",
              "      <td>768.0 Kbps</td>\n",
              "      <td>16</td>\n",
              "      <td>/content/drive/MyDrive/Research 2021/G9 192039...</td>\n",
              "    </tr>\n",
              "    <tr>\n",
              "      <th>6237</th>\n",
              "      <td>sylhet</td>\n",
              "      <td>sylhet01833.wav</td>\n",
              "      <td>48000</td>\n",
              "      <td>10.0</td>\n",
              "      <td>(480000,)</td>\n",
              "      <td>1</td>\n",
              "      <td>937.54 KiB</td>\n",
              "      <td>768.0 Kbps</td>\n",
              "      <td>16</td>\n",
              "      <td>/content/drive/MyDrive/Research 2021/G9 192039...</td>\n",
              "    </tr>\n",
              "  </tbody>\n",
              "</table>\n",
              "<p>6238 rows × 10 columns</p>\n",
              "</div>\n",
              "      <button class=\"colab-df-convert\" onclick=\"convertToInteractive('df-5b9834ce-784d-406f-bca0-fbaf1f5048b9')\"\n",
              "              title=\"Convert this dataframe to an interactive table.\"\n",
              "              style=\"display:none;\">\n",
              "        \n",
              "  <svg xmlns=\"http://www.w3.org/2000/svg\" height=\"24px\"viewBox=\"0 0 24 24\"\n",
              "       width=\"24px\">\n",
              "    <path d=\"M0 0h24v24H0V0z\" fill=\"none\"/>\n",
              "    <path d=\"M18.56 5.44l.94 2.06.94-2.06 2.06-.94-2.06-.94-.94-2.06-.94 2.06-2.06.94zm-11 1L8.5 8.5l.94-2.06 2.06-.94-2.06-.94L8.5 2.5l-.94 2.06-2.06.94zm10 10l.94 2.06.94-2.06 2.06-.94-2.06-.94-.94-2.06-.94 2.06-2.06.94z\"/><path d=\"M17.41 7.96l-1.37-1.37c-.4-.4-.92-.59-1.43-.59-.52 0-1.04.2-1.43.59L10.3 9.45l-7.72 7.72c-.78.78-.78 2.05 0 2.83L4 21.41c.39.39.9.59 1.41.59.51 0 1.02-.2 1.41-.59l7.78-7.78 2.81-2.81c.8-.78.8-2.07 0-2.86zM5.41 20L4 18.59l7.72-7.72 1.47 1.35L5.41 20z\"/>\n",
              "  </svg>\n",
              "      </button>\n",
              "      \n",
              "  <style>\n",
              "    .colab-df-container {\n",
              "      display:flex;\n",
              "      flex-wrap:wrap;\n",
              "      gap: 12px;\n",
              "    }\n",
              "\n",
              "    .colab-df-convert {\n",
              "      background-color: #E8F0FE;\n",
              "      border: none;\n",
              "      border-radius: 50%;\n",
              "      cursor: pointer;\n",
              "      display: none;\n",
              "      fill: #1967D2;\n",
              "      height: 32px;\n",
              "      padding: 0 0 0 0;\n",
              "      width: 32px;\n",
              "    }\n",
              "\n",
              "    .colab-df-convert:hover {\n",
              "      background-color: #E2EBFA;\n",
              "      box-shadow: 0px 1px 2px rgba(60, 64, 67, 0.3), 0px 1px 3px 1px rgba(60, 64, 67, 0.15);\n",
              "      fill: #174EA6;\n",
              "    }\n",
              "\n",
              "    [theme=dark] .colab-df-convert {\n",
              "      background-color: #3B4455;\n",
              "      fill: #D2E3FC;\n",
              "    }\n",
              "\n",
              "    [theme=dark] .colab-df-convert:hover {\n",
              "      background-color: #434B5C;\n",
              "      box-shadow: 0px 1px 3px 1px rgba(0, 0, 0, 0.15);\n",
              "      filter: drop-shadow(0px 1px 2px rgba(0, 0, 0, 0.3));\n",
              "      fill: #FFFFFF;\n",
              "    }\n",
              "  </style>\n",
              "\n",
              "      <script>\n",
              "        const buttonEl =\n",
              "          document.querySelector('#df-5b9834ce-784d-406f-bca0-fbaf1f5048b9 button.colab-df-convert');\n",
              "        buttonEl.style.display =\n",
              "          google.colab.kernel.accessAllowed ? 'block' : 'none';\n",
              "\n",
              "        async function convertToInteractive(key) {\n",
              "          const element = document.querySelector('#df-5b9834ce-784d-406f-bca0-fbaf1f5048b9');\n",
              "          const dataTable =\n",
              "            await google.colab.kernel.invokeFunction('convertToInteractive',\n",
              "                                                     [key], {});\n",
              "          if (!dataTable) return;\n",
              "\n",
              "          const docLinkHtml = 'Like what you see? Visit the ' +\n",
              "            '<a target=\"_blank\" href=https://colab.research.google.com/notebooks/data_table.ipynb>data table notebook</a>'\n",
              "            + ' to learn more about interactive tables.';\n",
              "          element.innerHTML = '';\n",
              "          dataTable['output_type'] = 'display_data';\n",
              "          await google.colab.output.renderOutput(dataTable, element);\n",
              "          const docLink = document.createElement('div');\n",
              "          docLink.innerHTML = docLinkHtml;\n",
              "          element.appendChild(docLink);\n",
              "        }\n",
              "      </script>\n",
              "    </div>\n",
              "  </div>\n",
              "  "
            ]
          },
          "metadata": {},
          "execution_count": 22
        }
      ]
    },
    {
      "cell_type": "markdown",
      "source": [
        "# **To  CSV**"
      ],
      "metadata": {
        "id": "JOoJoXO-zZU1"
      }
    },
    {
      "cell_type": "code",
      "source": [
        "def export_to_csv(dialect_list, dir, to_csv_process):\n",
        "\n",
        "  if to_csv_process:\n",
        "    print(\"yes\")\n",
        "\n",
        "    audio_info = []\n",
        "\n",
        "    for dialect in dialect_list:\n",
        "\n",
        "      current_dialect_path = os.path.join(dir, dialect)\n",
        "\n",
        "      for audio_path in glob.glob(os.path.join(current_dialect_path, '*.wav')):\n",
        "\n",
        "        audio_info.append({'filename': audio_path.split('/')[-1],\n",
        "                          'dialect': dialect,})\n",
        "\n",
        "    audio_info_df = pd.DataFrame(audio_info)\n",
        "\n",
        "    csv_file_path = os.path.join(dir, 'data.csv')\n",
        "\n",
        "    if os.path.exists(csv_file_path) and os.stat(csv_file_path).st_size != 0:\n",
        "\n",
        "      df=pd.read_csv(csv_file_path)\n",
        "\n",
        "      merged_df = audio_info_df.merge(df, on='filename', how='left').drop(['dialect_y'], axis=1).rename(columns = {'dialect_x':'dialect'})\n",
        "      \n",
        "      headers = merged_df.columns.tolist()\n",
        "      \n",
        "      merged_df.to_csv(csv_file_path, columns = headers, index=False)\n",
        "\n",
        "    else:\n",
        "\n",
        "      c = ['gender', 'no of speaker', 'annotation']\n",
        "      \n",
        "      audio_info_df = audio_info_df.assign(**dict.fromkeys(c, ''))\n",
        "      \n",
        "      headers = audio_info_df.columns.tolist()\n",
        "      \n",
        "      audio_info_df.to_csv(csv_file_path, columns = headers, index=False)"
      ],
      "metadata": {
        "id": "x1Oa93o_M0XM"
      },
      "execution_count": 23,
      "outputs": []
    },
    {
      "cell_type": "code",
      "source": [
        "export_to_csv(dialect_list, segmented_output, to_csv_process)"
      ],
      "metadata": {
        "id": "9zfBlyEHzezU",
        "colab": {
          "base_uri": "https://localhost:8080/"
        },
        "outputId": "58b1c27a-de00-4daa-bb56-7018b8ee158d"
      },
      "execution_count": 24,
      "outputs": [
        {
          "output_type": "stream",
          "name": "stdout",
          "text": [
            "yes\n"
          ]
        }
      ]
    },
    {
      "cell_type": "markdown",
      "source": [
        "# **Trial**"
      ],
      "metadata": {
        "id": "uzzm4DPlYstS"
      }
    },
    {
      "cell_type": "code",
      "source": [
        "df1 = pd.DataFrame(\n",
        "    {\n",
        "        \"F\": [\"B0\", \"B1\", \"C1\", \"C2\",\"S1\"],\n",
        "        \"G\": [\"M\", \"B\", \"F\", \"M\",\"B\"],\n",
        "\n",
        "    },\n",
        ")\n",
        "\n",
        "\n",
        "df2 = pd.DataFrame(\n",
        "    {\n",
        "        \"F\": [\"B0\", \"B1\", \"B2\", \"C1\", \"C2\",\"C3\", \"S1\", \"S2\"],\n",
        "        \"G\": [\"\", \"\", \"\", \"\", \"\", \"\", \"\", \"\"],\n",
        "    },\n",
        ")\n",
        "\n",
        "\n",
        "frames = [df1, df2]\n",
        "\n",
        "# df_merged = pd.concat([df1,df2]).drop_duplicates().reset_index(drop=False)\n",
        "df_merged= df2.merge(df1, on='F', how='left').drop ( ['G_x'], axis=1)\n",
        "df_merged"
      ],
      "metadata": {
        "id": "DklGpxAqY32B",
        "colab": {
          "base_uri": "https://localhost:8080/",
          "height": 300
        },
        "outputId": "8f26ea13-1268-463f-da01-784bf24fcda9"
      },
      "execution_count": 25,
      "outputs": [
        {
          "output_type": "execute_result",
          "data": {
            "text/plain": [
              "    F  G_y\n",
              "0  B0    M\n",
              "1  B1    B\n",
              "2  B2  NaN\n",
              "3  C1    F\n",
              "4  C2    M\n",
              "5  C3  NaN\n",
              "6  S1    B\n",
              "7  S2  NaN"
            ],
            "text/html": [
              "\n",
              "  <div id=\"df-85ca72b8-3a9d-427a-bfbe-b72592ec4727\">\n",
              "    <div class=\"colab-df-container\">\n",
              "      <div>\n",
              "<style scoped>\n",
              "    .dataframe tbody tr th:only-of-type {\n",
              "        vertical-align: middle;\n",
              "    }\n",
              "\n",
              "    .dataframe tbody tr th {\n",
              "        vertical-align: top;\n",
              "    }\n",
              "\n",
              "    .dataframe thead th {\n",
              "        text-align: right;\n",
              "    }\n",
              "</style>\n",
              "<table border=\"1\" class=\"dataframe\">\n",
              "  <thead>\n",
              "    <tr style=\"text-align: right;\">\n",
              "      <th></th>\n",
              "      <th>F</th>\n",
              "      <th>G_y</th>\n",
              "    </tr>\n",
              "  </thead>\n",
              "  <tbody>\n",
              "    <tr>\n",
              "      <th>0</th>\n",
              "      <td>B0</td>\n",
              "      <td>M</td>\n",
              "    </tr>\n",
              "    <tr>\n",
              "      <th>1</th>\n",
              "      <td>B1</td>\n",
              "      <td>B</td>\n",
              "    </tr>\n",
              "    <tr>\n",
              "      <th>2</th>\n",
              "      <td>B2</td>\n",
              "      <td>NaN</td>\n",
              "    </tr>\n",
              "    <tr>\n",
              "      <th>3</th>\n",
              "      <td>C1</td>\n",
              "      <td>F</td>\n",
              "    </tr>\n",
              "    <tr>\n",
              "      <th>4</th>\n",
              "      <td>C2</td>\n",
              "      <td>M</td>\n",
              "    </tr>\n",
              "    <tr>\n",
              "      <th>5</th>\n",
              "      <td>C3</td>\n",
              "      <td>NaN</td>\n",
              "    </tr>\n",
              "    <tr>\n",
              "      <th>6</th>\n",
              "      <td>S1</td>\n",
              "      <td>B</td>\n",
              "    </tr>\n",
              "    <tr>\n",
              "      <th>7</th>\n",
              "      <td>S2</td>\n",
              "      <td>NaN</td>\n",
              "    </tr>\n",
              "  </tbody>\n",
              "</table>\n",
              "</div>\n",
              "      <button class=\"colab-df-convert\" onclick=\"convertToInteractive('df-85ca72b8-3a9d-427a-bfbe-b72592ec4727')\"\n",
              "              title=\"Convert this dataframe to an interactive table.\"\n",
              "              style=\"display:none;\">\n",
              "        \n",
              "  <svg xmlns=\"http://www.w3.org/2000/svg\" height=\"24px\"viewBox=\"0 0 24 24\"\n",
              "       width=\"24px\">\n",
              "    <path d=\"M0 0h24v24H0V0z\" fill=\"none\"/>\n",
              "    <path d=\"M18.56 5.44l.94 2.06.94-2.06 2.06-.94-2.06-.94-.94-2.06-.94 2.06-2.06.94zm-11 1L8.5 8.5l.94-2.06 2.06-.94-2.06-.94L8.5 2.5l-.94 2.06-2.06.94zm10 10l.94 2.06.94-2.06 2.06-.94-2.06-.94-.94-2.06-.94 2.06-2.06.94z\"/><path d=\"M17.41 7.96l-1.37-1.37c-.4-.4-.92-.59-1.43-.59-.52 0-1.04.2-1.43.59L10.3 9.45l-7.72 7.72c-.78.78-.78 2.05 0 2.83L4 21.41c.39.39.9.59 1.41.59.51 0 1.02-.2 1.41-.59l7.78-7.78 2.81-2.81c.8-.78.8-2.07 0-2.86zM5.41 20L4 18.59l7.72-7.72 1.47 1.35L5.41 20z\"/>\n",
              "  </svg>\n",
              "      </button>\n",
              "      \n",
              "  <style>\n",
              "    .colab-df-container {\n",
              "      display:flex;\n",
              "      flex-wrap:wrap;\n",
              "      gap: 12px;\n",
              "    }\n",
              "\n",
              "    .colab-df-convert {\n",
              "      background-color: #E8F0FE;\n",
              "      border: none;\n",
              "      border-radius: 50%;\n",
              "      cursor: pointer;\n",
              "      display: none;\n",
              "      fill: #1967D2;\n",
              "      height: 32px;\n",
              "      padding: 0 0 0 0;\n",
              "      width: 32px;\n",
              "    }\n",
              "\n",
              "    .colab-df-convert:hover {\n",
              "      background-color: #E2EBFA;\n",
              "      box-shadow: 0px 1px 2px rgba(60, 64, 67, 0.3), 0px 1px 3px 1px rgba(60, 64, 67, 0.15);\n",
              "      fill: #174EA6;\n",
              "    }\n",
              "\n",
              "    [theme=dark] .colab-df-convert {\n",
              "      background-color: #3B4455;\n",
              "      fill: #D2E3FC;\n",
              "    }\n",
              "\n",
              "    [theme=dark] .colab-df-convert:hover {\n",
              "      background-color: #434B5C;\n",
              "      box-shadow: 0px 1px 3px 1px rgba(0, 0, 0, 0.15);\n",
              "      filter: drop-shadow(0px 1px 2px rgba(0, 0, 0, 0.3));\n",
              "      fill: #FFFFFF;\n",
              "    }\n",
              "  </style>\n",
              "\n",
              "      <script>\n",
              "        const buttonEl =\n",
              "          document.querySelector('#df-85ca72b8-3a9d-427a-bfbe-b72592ec4727 button.colab-df-convert');\n",
              "        buttonEl.style.display =\n",
              "          google.colab.kernel.accessAllowed ? 'block' : 'none';\n",
              "\n",
              "        async function convertToInteractive(key) {\n",
              "          const element = document.querySelector('#df-85ca72b8-3a9d-427a-bfbe-b72592ec4727');\n",
              "          const dataTable =\n",
              "            await google.colab.kernel.invokeFunction('convertToInteractive',\n",
              "                                                     [key], {});\n",
              "          if (!dataTable) return;\n",
              "\n",
              "          const docLinkHtml = 'Like what you see? Visit the ' +\n",
              "            '<a target=\"_blank\" href=https://colab.research.google.com/notebooks/data_table.ipynb>data table notebook</a>'\n",
              "            + ' to learn more about interactive tables.';\n",
              "          element.innerHTML = '';\n",
              "          dataTable['output_type'] = 'display_data';\n",
              "          await google.colab.output.renderOutput(dataTable, element);\n",
              "          const docLink = document.createElement('div');\n",
              "          docLink.innerHTML = docLinkHtml;\n",
              "          element.appendChild(docLink);\n",
              "        }\n",
              "      </script>\n",
              "    </div>\n",
              "  </div>\n",
              "  "
            ]
          },
          "metadata": {},
          "execution_count": 25
        }
      ]
    },
    {
      "cell_type": "code",
      "source": [],
      "metadata": {
        "id": "J8HVfnVqL2xq"
      },
      "execution_count": 25,
      "outputs": []
    }
  ],
  "metadata": {
    "colab": {
      "collapsed_sections": [
        "azFIQQMcOWVq",
        "E8YP26HSOy-z",
        "Ck6rJltyRFyq"
      ],
      "provenance": [],
      "include_colab_link": true
    },
    "kernelspec": {
      "display_name": "Python 3",
      "name": "python3"
    },
    "language_info": {
      "name": "python"
    }
  },
  "nbformat": 4,
  "nbformat_minor": 0
}